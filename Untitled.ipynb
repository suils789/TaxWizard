{
 "cells": [
  {
   "cell_type": "code",
   "execution_count": null,
   "id": "4259238f-af32-4e97-b386-59d9197d93fc",
   "metadata": {},
   "outputs": [],
   "source": [
    "from main import main\n",
    "main()"
   ]
  },
  {
   "cell_type": "code",
   "execution_count": 4,
   "id": "8afb1754-8207-41f2-b3e0-b8d6da5dc7b8",
   "metadata": {
    "tags": []
   },
   "outputs": [
    {
     "data": {
      "application/vnd.jupyter.widget-view+json": {
       "model_id": "6873b74db034445fb6d106659c520c1b",
       "version_major": 2,
       "version_minor": 0
      },
      "text/plain": [
       "VBox(children=(VBox(children=(HTML(value=\"<h4 style='color:navy'>📄 Header Info</h4>\"), Text(value='', descript…"
      ]
     },
     "metadata": {},
     "output_type": "display_data"
    }
   ],
   "source": [
    "from main_1040 import main_1040\n",
    "main_1040()"
   ]
  },
  {
   "cell_type": "code",
   "execution_count": 2,
   "id": "a351bb25-d2a3-4da9-ba84-4892cc47efd4",
   "metadata": {
    "tags": []
   },
   "outputs": [
    {
     "name": "stdout",
     "output_type": "stream",
     "text": [
      "(topmostSubform[0].Page1[0].f1_01[0]) = ()\n",
      "(topmostSubform[0].Page1[0].f1_02[0]) = ()\n",
      "(topmostSubform[0].Page1[0].f1_03[0]) = ()\n",
      "(topmostSubform[0].Page1[0].f1_04[0]) = ()\n",
      "(topmostSubform[0].Page1[0].f1_05[0]) = ()\n",
      "(topmostSubform[0].Page1[0].f1_06[0]) = ()\n",
      "(topmostSubform[0].Page1[0].f1_07[0]) = ()\n",
      "(topmostSubform[0].Page1[0].f1_08[0]) = ()\n",
      "(topmostSubform[0].Page1[0].f1_09[0]) = ()\n",
      "(topmostSubform[0].Page1[0].Address_ReadOrder[0].f1_10[0]) = ()\n",
      "(topmostSubform[0].Page1[0].Address_ReadOrder[0].f1_11[0]) = ()\n",
      "(topmostSubform[0].Page1[0].Address_ReadOrder[0].f1_12[0]) = ()\n",
      "(topmostSubform[0].Page1[0].Address_ReadOrder[0].f1_13[0]) = ()\n",
      "(topmostSubform[0].Page1[0].Address_ReadOrder[0].f1_14[0]) = ()\n",
      "(topmostSubform[0].Page1[0].Address_ReadOrder[0].f1_15[0]) = ()\n",
      "(topmostSubform[0].Page1[0].Address_ReadOrder[0].f1_16[0]) = ()\n",
      "(topmostSubform[0].Page1[0].Address_ReadOrder[0].f1_17[0]) = ()\n",
      "(topmostSubform[0].Page1[0].c1_1[0]) = /Off\n",
      "(topmostSubform[0].Page1[0].c1_2[0]) = /Off\n",
      "(topmostSubform[0].Page1[0].FilingStatus_ReadOrder[0].c1_3[0]) = /Off\n",
      "(topmostSubform[0].Page1[0].FilingStatus_ReadOrder[0].c1_3[1]) = /Off\n",
      "(topmostSubform[0].Page1[0].FilingStatus_ReadOrder[0].c1_3[2]) = /Off\n",
      "(topmostSubform[0].Page1[0].c1_3[0]) = /Yes\n",
      "(topmostSubform[0].Page1[0].c1_3[1]) = /Off\n",
      "(topmostSubform[0].Page1[0].f1_18[0]) = ()\n",
      "(topmostSubform[0].Page1[0].c1_4[0]) = ()\n",
      "(topmostSubform[0].Page1[0].f1_19[0]) = ()\n",
      "(topmostSubform[0].Page1[0].c1_5[0]) = /Yes\n",
      "(topmostSubform[0].Page1[0].c1_5[1]) = /Off\n",
      "(topmostSubform[0].Page1[0].c1_6[0]) = /Off\n",
      "(topmostSubform[0].Page1[0].c1_7[0]) = /Off\n",
      "(topmostSubform[0].Page1[0].c1_8[0]) = /Off\n",
      "(topmostSubform[0].Page1[0].c1_9[0]) = /Off\n",
      "(topmostSubform[0].Page1[0].c1_10[0]) = /Off\n",
      "(topmostSubform[0].Page1[0].c1_11[0]) = /Off\n",
      "(topmostSubform[0].Page1[0].c1_12[0]) = /Off\n",
      "(topmostSubform[0].Page1[0].Dependents_ReadOrder[0].c1_13[0]) = /Off\n",
      "(topmostSubform[0].Page1[0].Table_Dependents[0].Row1[0].f1_20[0]) = ()\n",
      "(topmostSubform[0].Page1[0].Table_Dependents[0].Row1[0].f1_21[0]) = ()\n",
      "(topmostSubform[0].Page1[0].Table_Dependents[0].Row1[0].f1_22[0]) = ()\n",
      "(topmostSubform[0].Page1[0].Table_Dependents[0].Row1[0].c1_14[0]) = /Off\n",
      "(topmostSubform[0].Page1[0].Table_Dependents[0].Row1[0].c1_15[0]) = /Off\n",
      "(topmostSubform[0].Page1[0].Table_Dependents[0].Row2[0].f1_23[0]) = ()\n",
      "(topmostSubform[0].Page1[0].Table_Dependents[0].Row2[0].f1_24[0]) = ()\n",
      "(topmostSubform[0].Page1[0].Table_Dependents[0].Row2[0].f1_25[0]) = ()\n",
      "(topmostSubform[0].Page1[0].Table_Dependents[0].Row2[0].c1_16[0]) = /Off\n",
      "(topmostSubform[0].Page1[0].Table_Dependents[0].Row2[0].c1_17[0]) = /Off\n",
      "(topmostSubform[0].Page1[0].Table_Dependents[0].Row3[0].f1_26[0]) = ()\n",
      "(topmostSubform[0].Page1[0].Table_Dependents[0].Row3[0].f1_27[0]) = ()\n",
      "(topmostSubform[0].Page1[0].Table_Dependents[0].Row3[0].f1_28[0]) = ()\n",
      "(topmostSubform[0].Page1[0].Table_Dependents[0].Row3[0].c1_18[0]) = /Off\n",
      "(topmostSubform[0].Page1[0].Table_Dependents[0].Row3[0].c1_19[0]) = /Off\n",
      "(topmostSubform[0].Page1[0].Table_Dependents[0].Row4[0].f1_29[0]) = ()\n",
      "(topmostSubform[0].Page1[0].Table_Dependents[0].Row4[0].f1_30[0]) = ()\n",
      "(topmostSubform[0].Page1[0].Table_Dependents[0].Row4[0].f1_31[0]) = ()\n",
      "(topmostSubform[0].Page1[0].Table_Dependents[0].Row4[0].c1_20[0]) = /Off\n",
      "(topmostSubform[0].Page1[0].Table_Dependents[0].Row4[0].c1_21[0]) = /Off\n",
      "(topmostSubform[0].Page1[0].f1_32[0]) = (0.0)\n",
      "(topmostSubform[0].Page1[0].f1_33[0]) = (0.0)\n",
      "(topmostSubform[0].Page1[0].f1_34[0]) = (0.0)\n",
      "(topmostSubform[0].Page1[0].f1_35[0]) = (0.0)\n",
      "(topmostSubform[0].Page1[0].f1_36[0]) = (0.0)\n",
      "(topmostSubform[0].Page1[0].f1_37[0]) = (0.0)\n",
      "(topmostSubform[0].Page1[0].f1_38[0]) = (0.0)\n",
      "(topmostSubform[0].Page1[0].f1_39[0]) = (0.0)\n",
      "(topmostSubform[0].Page1[0].f1_40[0]) = (0.0)\n",
      "(topmostSubform[0].Page1[0].f1_41[0]) = (0.0)\n",
      "(topmostSubform[0].Page1[0].f1_42[0]) = (0.0)\n",
      "(topmostSubform[0].Page1[0].f1_43[0]) = (0.0)\n",
      "(topmostSubform[0].Page1[0].f1_44[0]) = (0.0)\n",
      "(topmostSubform[0].Page1[0].f1_45[0]) = (0.0)\n",
      "(topmostSubform[0].Page1[0].Line4a-11_ReadOrder[0].f1_46[0]) = (0.0)\n",
      "(topmostSubform[0].Page1[0].Line4a-11_ReadOrder[0].f1_47[0]) = (0.0)\n",
      "(topmostSubform[0].Page1[0].Line4a-11_ReadOrder[0].f1_48[0]) = (0.0)\n",
      "(topmostSubform[0].Page1[0].Line4a-11_ReadOrder[0].f1_49[0]) = (0.0)\n",
      "(topmostSubform[0].Page1[0].Line4a-11_ReadOrder[0].f1_50[0]) = (0.0)\n",
      "(topmostSubform[0].Page1[0].Line4a-11_ReadOrder[0].f1_51[0]) = (0.0)\n",
      "(topmostSubform[0].Page1[0].Line4a-11_ReadOrder[0].c1_22[0]) = /Off\n",
      "(topmostSubform[0].Page1[0].Line4a-11_ReadOrder[0].c1_23[0]) = (0.0)\n",
      "(topmostSubform[0].Page1[0].Line4a-11_ReadOrder[0].f1_52[0]) = ()\n",
      "(topmostSubform[0].Page1[0].Line4a-11_ReadOrder[0].f1_53[0]) = (0.0)\n",
      "(topmostSubform[0].Page1[0].Line4a-11_ReadOrder[0].f1_54[0]) = (0.0)\n",
      "(topmostSubform[0].Page1[0].Line4a-11_ReadOrder[0].f1_55[0]) = (0.0)\n",
      "(topmostSubform[0].Page1[0].Line4a-11_ReadOrder[0].f1_56[0]) = (0.0)\n",
      "(topmostSubform[0].Page1[0].f1_57[0]) = (0.0)\n",
      "(topmostSubform[0].Page1[0].f1_58[0]) = (0.0)\n",
      "(topmostSubform[0].Page1[0].f1_59[0]) = (0.0)\n",
      "(topmostSubform[0].Page1[0].f1_60[0]) = (0.0)\n",
      "(topmostSubform[0].Page2[0].c2_1[0]) = ()\n",
      "(topmostSubform[0].Page2[0].c2_2[0]) = ()\n",
      "(topmostSubform[0].Page2[0].c2_3[0]) = ()\n",
      "(topmostSubform[0].Page2[0].f2_01[0]) = ()\n",
      "(topmostSubform[0].Page2[0].f2_02[0]) = (0.0)\n",
      "(topmostSubform[0].Page2[0].f2_03[0]) = (0.0)\n",
      "(topmostSubform[0].Page2[0].f2_04[0]) = (0.0)\n",
      "(topmostSubform[0].Page2[0].f2_05[0]) = (0.0)\n",
      "(topmostSubform[0].Page2[0].f2_06[0]) = (0.0)\n",
      "(topmostSubform[0].Page2[0].f2_07[0]) = (0.0)\n",
      "(topmostSubform[0].Page2[0].f2_08[0]) = (0.0)\n",
      "(topmostSubform[0].Page2[0].f2_09[0]) = (0.0)\n",
      "(topmostSubform[0].Page2[0].f2_10[0]) = (0.0)\n",
      "(topmostSubform[0].Page2[0].f2_11[0]) = (0.0)\n",
      "(topmostSubform[0].Page2[0].f2_12[0]) = (0.0)\n",
      "(topmostSubform[0].Page2[0].f2_13[0]) = (0.0)\n",
      "(topmostSubform[0].Page2[0].f2_14[0]) = (0.0)\n",
      "(topmostSubform[0].Page2[0].f2_15[0]) = (0.0)\n",
      "(topmostSubform[0].Page2[0].f2_16[0]) = (0.0)\n",
      "(topmostSubform[0].Page2[0].f2_17[0]) = (0.0)\n",
      "(topmostSubform[0].Page2[0].f2_18[0]) = (0.0)\n",
      "(topmostSubform[0].Page2[0].f2_19[0]) = (0.0)\n",
      "(topmostSubform[0].Page2[0].f2_20[0]) = (0.0)\n",
      "(topmostSubform[0].Page2[0].f2_21[0]) = (0.0)\n",
      "(topmostSubform[0].Page2[0].f2_22[0]) = (0.0)\n",
      "(topmostSubform[0].Page2[0].f2_23[0]) = (0.0)\n",
      "(topmostSubform[0].Page2[0].c2_4[0]) = ()\n",
      "(topmostSubform[0].Page2[0].f2_24[0]) = (0.0)\n",
      "(topmostSubform[0].Page2[0].RoutingNo[0].f2_25[0]) = ()\n",
      "(topmostSubform[0].Page2[0].c2_5[0]) = (Checking)\n",
      "(topmostSubform[0].Page2[0].c2_5[1]) = (Checking)\n",
      "(topmostSubform[0].Page2[0].AccountNo[0].f2_26[0]) = ()\n",
      "(topmostSubform[0].Page2[0].f2_27[0]) = (0.0)\n",
      "(topmostSubform[0].Page2[0].f2_28[0]) = (0.0)\n",
      "(topmostSubform[0].Page2[0].f2_29[0]) = (0.0)\n",
      "(topmostSubform[0].Page2[0].c2_6[0]) = /Yes\n",
      "(topmostSubform[0].Page2[0].c2_6[1]) = /Yes\n",
      "(topmostSubform[0].Page2[0].f2_30[0]) = ()\n",
      "(topmostSubform[0].Page2[0].f2_31[0]) = ()\n",
      "(topmostSubform[0].Page2[0].f2_32[0]) = ()\n",
      "(topmostSubform[0].Page2[0].f2_33[0]) = ()\n",
      "(topmostSubform[0].Page2[0].f2_34[0]) = ()\n",
      "(topmostSubform[0].Page2[0].f2_35[0]) = ()\n",
      "(topmostSubform[0].Page2[0].f2_36[0]) = ()\n",
      "(topmostSubform[0].Page2[0].f2_37[0]) = ()\n",
      "(topmostSubform[0].Page2[0].f2_38[0]) = ()\n",
      "(topmostSubform[0].Page2[0].f2_39[0]) = ()\n",
      "(topmostSubform[0].Page2[0].f2_40[0]) = ()\n",
      "(topmostSubform[0].Page2[0].c2_7[0]) = /Off\n",
      "(topmostSubform[0].Page2[0].f2_41[0]) = ()\n",
      "(topmostSubform[0].Page2[0].f2_42[0]) = ()\n",
      "(topmostSubform[0].Page2[0].f2_43[0]) = ()\n",
      "(topmostSubform[0].Page2[0].f2_44[0]) = ()\n"
     ]
    }
   ],
   "source": [
    "from pdfrw import PdfReader\n",
    "pdf = PdfReader(\"filled_1040.pdf\")\n",
    "for page in pdf.pages:\n",
    "    annots = page.Annots or []\n",
    "    for annot in annots:\n",
    "        key = annot.T\n",
    "        val = annot.V\n",
    "        if key:\n",
    "            print(f\"{key} = {val}\")\n"
   ]
  },
  {
   "cell_type": "code",
   "execution_count": null,
   "id": "95fbd51a-b859-46a8-b09a-382e522f38ca",
   "metadata": {
    "tags": []
   },
   "outputs": [],
   "source": [
    "pdf = PdfReader(\"filled_1040.pdf\")\n",
    "print(\"/XFA\" in pdf.Root.AcroForm) "
   ]
  }
 ],
 "metadata": {
  "kernelspec": {
   "display_name": "Python 3 (ipykernel)",
   "language": "python",
   "name": "python3"
  },
  "language_info": {
   "codemirror_mode": {
    "name": "ipython",
    "version": 3
   },
   "file_extension": ".py",
   "mimetype": "text/x-python",
   "name": "python",
   "nbconvert_exporter": "python",
   "pygments_lexer": "ipython3",
   "version": "3.11.7"
  }
 },
 "nbformat": 4,
 "nbformat_minor": 5
}
